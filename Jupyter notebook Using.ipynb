{
 "cells": [
  {
   "cell_type": "markdown",
   "id": "bc269b27",
   "metadata": {},
   "source": [
    "# Title"
   ]
  },
  {
   "cell_type": "markdown",
   "id": "295d1a29",
   "metadata": {},
   "source": [
    "## Small title"
   ]
  },
  {
   "cell_type": "markdown",
   "id": "40f9f518",
   "metadata": {},
   "source": [
    "삭제 : dd\n",
    "\n",
    "위에 창 만들기 : 명령모드에서 a\n",
    "\n",
    "편집 모드 -> 명령모드 : esc\n",
    "\n",
    "명령 모드 -> 편집모드 : 삽입 창 누르기\n",
    "\n",
    "코드 -> 마크 다운 : m\n",
    "\n",
    "마크 다운 -> 코드 : y\n",
    "\n",
    "실행 : shift+enter, Ctrl+Enter, Alt+Enter(실행 후 새창 만들기)\n",
    "\n",
    "필요한 단축키 : Help -> Edit Keyboard Shortcuts"
   ]
  },
  {
   "cell_type": "markdown",
   "id": "009d3118",
   "metadata": {},
   "source": [
    "제목 : Title 모드에서 # -> 입력\n",
    "\n",
    "부제목 : Markdown 모드에서 ## -> 입력"
   ]
  },
  {
   "cell_type": "markdown",
   "id": "c3df9d3b",
   "metadata": {},
   "source": [
    "Jupyter Notebook에서는 변수를 바꿔도 위의 변수에 영향 X 저장\n",
    "오류가 있는 해당 줄에서만 오류를 출력함\n"
   ]
  },
  {
   "cell_type": "markdown",
   "id": "6fc8d5a4",
   "metadata": {},
   "source": [
    "Jupyter Notebook을 Shotdown 한 후에 다시 시작할 경우에는 반드시 Kernel -> Restart & Run All 해주면 모두 활성화 되어서 각 셀에서 오류 없이 잘 돌아감"
   ]
  },
  {
   "cell_type": "markdown",
   "id": "d7ed1b93",
   "metadata": {},
   "source": [
    "아래쪽에서 작동이 제대로 하지 않는 문제가 있는 경우 Kernel -> Restart & Run All 해주고 다시 실행시켜보면 도움이 될 수 있음"
   ]
  }
 ],
 "metadata": {
  "kernelspec": {
   "display_name": "Python 3 (ipykernel)",
   "language": "python",
   "name": "python3"
  },
  "language_info": {
   "codemirror_mode": {
    "name": "ipython",
    "version": 3
   },
   "file_extension": ".py",
   "mimetype": "text/x-python",
   "name": "python",
   "nbconvert_exporter": "python",
   "pygments_lexer": "ipython3",
   "version": "3.9.7"
  }
 },
 "nbformat": 4,
 "nbformat_minor": 5
}
